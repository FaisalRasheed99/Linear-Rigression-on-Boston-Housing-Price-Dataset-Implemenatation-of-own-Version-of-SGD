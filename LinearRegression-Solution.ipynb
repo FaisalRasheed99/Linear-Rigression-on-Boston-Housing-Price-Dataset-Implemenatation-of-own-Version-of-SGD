{
 "cells": [
  {
   "cell_type": "markdown",
   "metadata": {},
   "source": [
    "# Assignment 6: Implement SGD for linear regression"
   ]
  },
  {
   "cell_type": "code",
   "execution_count": 3,
   "metadata": {},
   "outputs": [],
   "source": [
    "# import necessary libraries\n",
    "import warnings\n",
    "warnings.filterwarnings(\"ignore\")\n",
    "from random import seed\n",
    "from random import randrange\n",
    "from csv import reader\n",
    "from math import sqrt\n",
    "from numpy import random"
   ]
  },
  {
   "cell_type": "code",
   "execution_count": 4,
   "metadata": {},
   "outputs": [],
   "source": [
    "#Making the dataframe\n",
    "from sklearn.datasets import load_boston\n",
    "import pandas as pd\n",
    "boston_data=pd.DataFrame(load_boston().data,columns=load_boston().feature_names)"
   ]
  },
  {
   "cell_type": "code",
   "execution_count": 5,
   "metadata": {},
   "outputs": [
    {
     "data": {
      "text/plain": [
       "array(['CRIM', 'ZN', 'INDUS', 'CHAS', 'NOX', 'RM', 'AGE', 'DIS', 'RAD',\n",
       "       'TAX', 'PTRATIO', 'B', 'LSTAT'], dtype='<U7')"
      ]
     },
     "execution_count": 5,
     "metadata": {},
     "output_type": "execute_result"
    }
   ],
   "source": [
    "load_boston().feature_names\n"
   ]
  },
  {
   "cell_type": "markdown",
   "metadata": {},
   "source": [
    "## Description of Data Set"
   ]
  },
  {
   "cell_type": "code",
   "execution_count": 6,
   "metadata": {},
   "outputs": [
    {
     "name": "stdout",
     "output_type": "stream",
     "text": [
      ".. _boston_dataset:\n",
      "\n",
      "Boston house prices dataset\n",
      "---------------------------\n",
      "\n",
      "**Data Set Characteristics:**  \n",
      "\n",
      "    :Number of Instances: 506 \n",
      "\n",
      "    :Number of Attributes: 13 numeric/categorical predictive. Median Value (attribute 14) is usually the target.\n",
      "\n",
      "    :Attribute Information (in order):\n",
      "        - CRIM     per capita crime rate by town\n",
      "        - ZN       proportion of residential land zoned for lots over 25,000 sq.ft.\n",
      "        - INDUS    proportion of non-retail business acres per town\n",
      "        - CHAS     Charles River dummy variable (= 1 if tract bounds river; 0 otherwise)\n",
      "        - NOX      nitric oxides concentration (parts per 10 million)\n",
      "        - RM       average number of rooms per dwelling\n",
      "        - AGE      proportion of owner-occupied units built prior to 1940\n",
      "        - DIS      weighted distances to five Boston employment centres\n",
      "        - RAD      index of accessibility to radial highways\n",
      "        - TAX      full-value property-tax rate per $10,000\n",
      "        - PTRATIO  pupil-teacher ratio by town\n",
      "        - B        1000(Bk - 0.63)^2 where Bk is the proportion of blacks by town\n",
      "        - LSTAT    % lower status of the population\n",
      "        - MEDV     Median value of owner-occupied homes in $1000's\n",
      "\n",
      "    :Missing Attribute Values: None\n",
      "\n",
      "    :Creator: Harrison, D. and Rubinfeld, D.L.\n",
      "\n",
      "This is a copy of UCI ML housing dataset.\n",
      "https://archive.ics.uci.edu/ml/machine-learning-databases/housing/\n",
      "\n",
      "\n",
      "This dataset was taken from the StatLib library which is maintained at Carnegie Mellon University.\n",
      "\n",
      "The Boston house-price data of Harrison, D. and Rubinfeld, D.L. 'Hedonic\n",
      "prices and the demand for clean air', J. Environ. Economics & Management,\n",
      "vol.5, 81-102, 1978.   Used in Belsley, Kuh & Welsch, 'Regression diagnostics\n",
      "...', Wiley, 1980.   N.B. Various transformations are used in the table on\n",
      "pages 244-261 of the latter.\n",
      "\n",
      "The Boston house-price data has been used in many machine learning papers that address regression\n",
      "problems.   \n",
      "     \n",
      ".. topic:: References\n",
      "\n",
      "   - Belsley, Kuh & Welsch, 'Regression diagnostics: Identifying Influential Data and Sources of Collinearity', Wiley, 1980. 244-261.\n",
      "   - Quinlan,R. (1993). Combining Instance-Based and Model-Based Learning. In Proceedings on the Tenth International Conference of Machine Learning, 236-243, University of Massachusetts, Amherst. Morgan Kaufmann.\n",
      "\n"
     ]
    }
   ],
   "source": [
    "print(load_boston().DESCR)"
   ]
  },
  {
   "cell_type": "code",
   "execution_count": 7,
   "metadata": {},
   "outputs": [],
   "source": [
    "Y=load_boston().target\n",
    "X=load_boston().data"
   ]
  },
  {
   "cell_type": "code",
   "execution_count": 8,
   "metadata": {},
   "outputs": [],
   "source": [
    "#Splitting the dataframe\n",
    "from sklearn.model_selection import train_test_split\n",
    "X_train,X_test,Y_train,Y_test=train_test_split(X,Y,test_size=0.3)"
   ]
  },
  {
   "cell_type": "code",
   "execution_count": 9,
   "metadata": {},
   "outputs": [],
   "source": [
    "# standardizing the data\n",
    "from sklearn import preprocessing\n",
    "\n",
    "scaler = preprocessing.StandardScaler().fit(X_train)\n",
    "\n",
    "X_train = scaler.transform(X_train)\n",
    "X_test=scaler.transform(X_test)"
   ]
  },
  {
   "cell_type": "code",
   "execution_count": 10,
   "metadata": {},
   "outputs": [],
   "source": [
    "train_data=pd.DataFrame(X_train)\n",
    "train_data['price']=Y_train"
   ]
  },
  {
   "cell_type": "code",
   "execution_count": 11,
   "metadata": {},
   "outputs": [],
   "source": [
    "import numpy as np\n",
    "X_test=np.array(X_test)\n",
    "Y_test=np.array(Y_test)"
   ]
  },
  {
   "cell_type": "code",
   "execution_count": 12,
   "metadata": {},
   "outputs": [
    {
     "name": "stdout",
     "output_type": "stream",
     "text": [
      "(354, 13)\n",
      "(152, 13)\n",
      "(354,)\n",
      "(152,)\n"
     ]
    }
   ],
   "source": [
    "# shape of test and train data matxis\n",
    "print(X_train.shape)\n",
    "print(X_test.shape)\n",
    "print(Y_train.shape)\n",
    "print(Y_test.shape)"
   ]
  },
  {
   "cell_type": "markdown",
   "metadata": {},
   "source": [
    "## SGD Regresser of sklearn"
   ]
  },
  {
   "cell_type": "code",
   "execution_count": 13,
   "metadata": {},
   "outputs": [
    {
     "data": {
      "text/plain": [
       "SGDRegressor(alpha=0.0001, average=False, early_stopping=False, epsilon=0.1,\n",
       "       eta0=0.01, fit_intercept=True, l1_ratio=0.15,\n",
       "       learning_rate='invscaling', loss='squared_loss', max_iter=None,\n",
       "       n_iter=None, n_iter_no_change=5, penalty='l2', power_t=0.25,\n",
       "       random_state=None, shuffle=True, tol=None, validation_fraction=0.1,\n",
       "       verbose=0, warm_start=False)"
      ]
     },
     "execution_count": 13,
     "metadata": {},
     "output_type": "execute_result"
    }
   ],
   "source": [
    "# SkLearn SGD classifier\n",
    "from sklearn.linear_model import SGDRegressor\n",
    "sgd = SGDRegressor()\n",
    "sgd.fit(X_train, Y_train)"
   ]
  },
  {
   "cell_type": "markdown",
   "metadata": {},
   "source": [
    "## Ploting the chart of predicted values Vs actual values for SGDRegresser of sklearn"
   ]
  },
  {
   "cell_type": "code",
   "execution_count": 15,
   "metadata": {},
   "outputs": [
    {
     "data": {
      "image/png": "[encoded data removed]",
      "text/plain": [
       "<Figure size 432x288 with 1 Axes>"
      ]
     },
     "metadata": {
      "needs_background": "light"
     },
     "output_type": "display_data"
    }
   ],
   "source": [
    "import matplotlib.pyplot as plt\n",
    "plt.scatter(Y_test,sgd.predict(X_test))\n",
    "plt.grid()\n",
    "plt.xlabel('Actual Price')\n",
    "plt.ylabel('Predicted Predicted')\n",
    "plt.title('Scatter plot between Actual Price vs Predicted Price')\n",
    "plt.show()"
   ]
  },
  {
   "cell_type": "code",
   "execution_count": 16,
   "metadata": {},
   "outputs": [
    {
     "data": {
      "text/plain": [
       "array([-0.67359293,  0.23269199, -0.03729534,  1.19307993, -0.49363931,\n",
       "        3.65806385, -0.50892885, -1.35112707,  0.57128713, -0.47701001,\n",
       "       -2.15216847,  0.81039221, -3.00992236])"
      ]
     },
     "execution_count": 16,
     "metadata": {},
     "output_type": "execute_result"
    }
   ],
   "source": [
    "# SkLearn SGD classifier predicted weight matrix\n",
    "version_sklearn=sgd.coef_\n",
    "version_sklearn"
   ]
  },
  {
   "cell_type": "code",
   "execution_count": 17,
   "metadata": {},
   "outputs": [
    {
     "name": "stdout",
     "output_type": "stream",
     "text": [
      "Mean Squared Error : 34.25874599260796\n"
     ]
    }
   ],
   "source": [
    "from sklearn.metrics import mean_squared_error\n",
    "print('Mean Squared Error :',mean_squared_error(Y_test, sgd.predict(X_test)))"
   ]
  },
  {
   "cell_type": "markdown",
   "metadata": {},
   "source": [
    "## Implementing own version of sklearn SGDRegresser"
   ]
  },
  {
   "cell_type": "code",
   "execution_count": 18,
   "metadata": {},
   "outputs": [],
   "source": [
    "# implemented SGD Classifier\n",
    "def own_implementation(train_data,n_iterations=10000,k=25,learning_rate=0.0001):\n",
    "    w_latest=np.zeros(shape=(1,train_data.shape[1]-1))\n",
    "    b_latest=0\n",
    "    j=1\n",
    "    \n",
    "    while(j<=n_iterations):\n",
    "        w_previous=w_latest\n",
    "        b_previous=b_latest\n",
    "        \n",
    "        w_tem=np.zeros(shape=(1,train_data.shape[1]-1))\n",
    "        b_tem=0\n",
    "        \n",
    "        tem=train_data.sample(k)\n",
    "        \n",
    "        Y=np.array(tem['price'])\n",
    "        X=np.array(tem.drop('price',axis=1))\n",
    "        \n",
    "        for i in range(k):\n",
    "            w_tem+=X[i]*(Y[i]-(np.dot(w_previous,X[i])+b_previous))*(-2/k)\n",
    "            b_tem+=(Y[i]-(np.dot(w_previous,X[i])+b_previous))*(-2/k)\n",
    "        w_latest=w_previous-learning_rate*w_tem\n",
    "        b_latest=b_previous-learning_rate*b_tem\n",
    "        if(w_previous==w_latest).all():\n",
    "            break\n",
    "        j=j+1\n",
    "    \n",
    "    return w_latest,b_latest"
   ]
  },
  {
   "cell_type": "code",
   "execution_count": 19,
   "metadata": {},
   "outputs": [],
   "source": [
    "w,b=own_implementation(train_data)"
   ]
  },
  {
   "cell_type": "code",
   "execution_count": 20,
   "metadata": {},
   "outputs": [],
   "source": [
    "def predict(x,w,b):\n",
    "    y_pred=[]\n",
    "    for i in range(len(x)):\n",
    "        y=np.asscalar(np.dot(w,x[i])+b)\n",
    "        y_pred.append(y)\n",
    "    return np.array(y_pred)"
   ]
  },
  {
   "cell_type": "code",
   "execution_count": 21,
   "metadata": {},
   "outputs": [
    {
     "data": {
      "text/plain": [
       "array([34.00483379, 14.89174261, 14.0344714 , 18.24473785, 18.0252266 ,\n",
       "       15.75112249, 20.09825627, 22.46244208, 24.76157208, 30.87634545,\n",
       "       15.87246643, 20.37251332, 23.41478185,  9.03911106, 28.50561124,\n",
       "       19.4403641 , 36.02510546, 25.41329933, 23.48268188, 11.9681924 ,\n",
       "       14.16228765, 16.21973407, 22.31527515, 21.20314943, 21.52185452,\n",
       "       14.37572179, 10.0757581 , 17.70827217, 15.19209732, 24.78898523,\n",
       "       10.98199971, 29.45233775, 23.98467228, 18.32689782, 13.30310434,\n",
       "       12.35744701, 16.93015834, 14.36521306, 10.46257413, 21.88935132,\n",
       "       33.49075039, 15.11642618, 23.81634407, 11.91040921, 21.8832118 ,\n",
       "       29.41858213,  4.80411991, 15.00616635, 12.63898763, 28.81836787,\n",
       "        4.12479087, 23.84216762, 25.49031069, 21.5076073 , 21.30061562,\n",
       "       11.38874161, 12.20974286, 10.89732364, 17.13129762, 17.55855317,\n",
       "       23.66451936,  8.33437576, 30.41503323, 20.73545146, 19.45767497,\n",
       "        8.88064948, 15.48390606, 17.81280586, 33.19827853, 17.30199707,\n",
       "        9.63280354, 28.29952748, 25.44927613, 21.87956575, 25.47574737,\n",
       "       10.58087519, 34.39129977, 25.61997551, 28.77742728, 19.44695298,\n",
       "       22.79708116, 25.11336508, 25.7940132 , 18.1849097 , 13.93111607,\n",
       "       10.07661168,  3.51887785, 13.22588507, 23.97583481, 18.87815487,\n",
       "       28.30934276, 16.80514539, 14.58434668, 22.34839081, 17.71501133,\n",
       "       -3.44036116, 16.44219276,  6.71990899, 11.60288139, 17.53721828,\n",
       "       30.92167986,  9.77077803, 20.69017228, 25.7964869 , 20.88963392,\n",
       "       16.15719983, 18.48864291, 22.90341111, 29.28715451, 23.71642883,\n",
       "       -2.86705985, 21.92987588, 15.97107046, 10.99325572, 15.03354264,\n",
       "       11.93922037, 18.22209783, 13.75454423, 24.32716157, 14.94219357,\n",
       "       24.01023761, 12.54754641, 30.54114105, 35.03884755, 14.46603475,\n",
       "       21.81117355, 12.28775888, 29.36344393, 13.85788554, 32.14218492,\n",
       "       16.15661117, 22.54532423, 25.49783413, 34.97031238, 29.70663203,\n",
       "       17.66218039, 19.60574212, 15.27891683, 19.00602929, 26.87220727,\n",
       "       22.96279817, 16.85289967,  7.80151516, 23.82567747, 37.18462675,\n",
       "       24.63258193, 13.26776058, 25.45806807, 43.60306278,  9.04148838,\n",
       "       33.28826653, 16.58166443])"
      ]
     },
     "execution_count": 21,
     "metadata": {},
     "output_type": "execute_result"
    }
   ],
   "source": [
    "y_pred=predict(X_test,w,b)\n",
    "y_pred"
   ]
  },
  {
   "cell_type": "markdown",
   "metadata": {},
   "source": [
    "## Ploting a chart of predicted values Vs actual values of own SGD Implementation"
   ]
  },
  {
   "cell_type": "code",
   "execution_count": 22,
   "metadata": {},
   "outputs": [],
   "source": [
    "def scatter_plot(test_data,y_pred):\n",
    "    #scatter plot\n",
    "    plt.scatter(test_data,y_pred)\n",
    "    plt.grid()\n",
    "    plt.title('scatter plot between actual y and predicted y')\n",
    "    plt.xlabel('actual y')\n",
    "    plt.ylabel('predicted y')\n",
    "    plt.show()"
   ]
  },
  {
   "cell_type": "code",
   "execution_count": 23,
   "metadata": {},
   "outputs": [
    {
     "data": {
      "image/png": "[encoded data removed]",
      "text/plain": [
       "<Figure size 432x288 with 1 Axes>"
      ]
     },
     "metadata": {
      "needs_background": "light"
     },
     "output_type": "display_data"
    }
   ],
   "source": [
    "scatter_plot(Y_test,y_pred)"
   ]
  },
  {
   "cell_type": "code",
   "execution_count": 24,
   "metadata": {},
   "outputs": [
    {
     "data": {
      "text/plain": [
       "array([[-0.68071991,  0.43446345, -0.43178907,  1.20089633, -0.28969517,\n",
       "         3.39381147, -0.3387414 , -1.21489511,  0.21006942, -0.44309464,\n",
       "        -2.00136828,  0.7046373 , -2.8190108 ]])"
      ]
     },
     "execution_count": 24,
     "metadata": {},
     "output_type": "execute_result"
    }
   ],
   "source": [
    "# weight vector obtained from impemented SGD Classifier\n",
    "version_own_implementation=w\n",
    "version_own_implementation"
   ]
  },
  {
   "cell_type": "code",
   "execution_count": 25,
   "metadata": {},
   "outputs": [
    {
     "name": "stdout",
     "output_type": "stream",
     "text": [
      "39.4775548741213\n"
     ]
    }
   ],
   "source": [
    "# Errors in implemeted model\n",
    "print(mean_squared_error(Y_test,y_pred))"
   ]
  },
  {
   "cell_type": "markdown",
   "metadata": {},
   "source": [
    "##  In a tabular format, comparing the weights obtained from own implementation with the weights obtained after applying sklearn's SGDRegresser."
   ]
  },
  {
   "cell_type": "code",
   "execution_count": 26,
   "metadata": {},
   "outputs": [
    {
     "name": "stdout",
     "output_type": "stream",
     "text": [
      "+-------+-----------+-----------------------+-------------------------+\n",
      "| S.No. | Variables | Weights of Custom SGD | Weights of sklearns SGD |\n",
      "+-------+-----------+-----------------------+-------------------------+\n",
      "|   1   |    CRIM   |  -0.6807199141834008  |   -0.6735929331146994   |\n",
      "|   2   |     ZN    |  0.43446344617523963  |   0.23269198723485632   |\n",
      "|   3   |   INDUS   |  -0.4317890721757704  |  -0.037295336604391695  |\n",
      "|   4   |    CHAS   |   1.2008963282200598  |    1.1930799280938345   |\n",
      "|   5   |    NOX    |  -0.2896951656630646  |    -0.49363931245008    |\n",
      "|   6   |     RM    |   3.393811468780039   |    3.6580638480547756   |\n",
      "|   7   |    AGE    |  -0.33874140067122527 |    -0.508928846140801   |\n",
      "|   8   |    DIS    |  -1.2148951093213372  |    -1.35112706962313    |\n",
      "|   9   |    RAD    |  0.21006942257290714  |    0.5712871270799124   |\n",
      "|   10  |    TAX    |  -0.4430946446479293  |   -0.47701001378487984  |\n",
      "|   11  |  PTRATIO  |  -2.0013682782356406  |   -2.1521684671523205   |\n",
      "|   12  |     B     |   0.7046373022191185  |    0.8103922126433141   |\n",
      "|   13  |   LSTAT   |   -2.819010797850983  |   -3.0099223587813704   |\n",
      "+-------+-----------+-----------------------+-------------------------+\n"
     ]
    }
   ],
   "source": [
    "from prettytable import PrettyTable\n",
    "version_own_implementation.shape=(13,)\n",
    "numbering =  [1,2,3,4,5,6,7,8,9,10,11,12,13]\n",
    "\n",
    "ptable = PrettyTable()\n",
    "ptable.add_column(\"S.No.\",numbering)\n",
    "ptable.add_column(\"Variables\",load_boston().feature_names)\n",
    "ptable.add_column(\"Weights of Custom SGD\",version_own_implementation)\n",
    "ptable.add_column(\"Weights of sklearns SGD\",version_sklearn)\n",
    "\n",
    "print(ptable)"
   ]
  },
  {
   "cell_type": "markdown",
   "metadata": {},
   "source": [
    "## Comparing the MSE obtained from custom implementation of SGD Regressor and that of sklearns implementation."
   ]
  },
  {
   "cell_type": "code",
   "execution_count": 27,
   "metadata": {},
   "outputs": [
    {
     "name": "stdout",
     "output_type": "stream",
     "text": [
      "+-----------------------------------+-----------------------------------------+\n",
      "| Mean Square Error of custom model | Mean Square Error of sklearns SGD model |\n",
      "+-----------------------------------+-----------------------------------------+\n",
      "|          39.4775548741213         |            34.25874599260796            |\n",
      "+-----------------------------------+-----------------------------------------+\n"
     ]
    }
   ],
   "source": [
    "x=PrettyTable()\n",
    "x.field_names=[\"Mean Square Error of custom model\", \"Mean Square Error of sklearns SGD model\"]\n",
    "x.add_row([mean_squared_error(Y_test,y_pred) , mean_squared_error(Y_test, sgd.predict(X_test))])\n",
    "print(x)"
   ]
  }
 ],
 "metadata": {
  "kernelspec": {
   "display_name": "Python 3",
   "language": "python",
   "name": "python3"
  },
  "language_info": {
   "codemirror_mode": {
    "name": "ipython",
    "version": 3
   },
   "file_extension": ".py",
   "mimetype": "text/x-python",
   "name": "python",
   "nbconvert_exporter": "python",
   "pygments_lexer": "ipython3",
   "version": "3.7.1"
  }
 },
 "nbformat": 4,
 "nbformat_minor": 2
}
